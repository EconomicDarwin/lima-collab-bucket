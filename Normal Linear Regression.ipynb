{
 "cells": [
  {
   "cell_type": "markdown",
   "metadata": {},
   "source": [
    "# Normal Linear Regression"
   ]
  },
  {
   "cell_type": "markdown",
   "metadata": {},
   "source": [
    "# Statistical Inference Example #1"
   ]
  },
  {
   "cell_type": "markdown",
   "metadata": {},
   "source": [
    "<hr>"
   ]
  },
  {
   "cell_type": "markdown",
   "metadata": {},
   "source": [
    "### Imports"
   ]
  },
  {
   "cell_type": "code",
   "execution_count": 1,
   "metadata": {},
   "outputs": [],
   "source": [
    "import numpy as np"
   ]
  },
  {
   "cell_type": "markdown",
   "metadata": {},
   "source": [
    "## Randomly Generating Data"
   ]
  },
  {
   "cell_type": "code",
   "execution_count": 2,
   "metadata": {
    "scrolled": true
   },
   "outputs": [
    {
     "name": "stdout",
     "output_type": "stream",
     "text": [
      "[69.66362252 70.31892476 66.1258838  66.88573366 65.54447373 63.00642504\n",
      " 70.65867602 64.46085681 68.36349734 67.14871716]\n",
      "[161.61293936 164.45058364 142.57551185 170.73956117 155.89849402\n",
      " 116.1245501  182.11647924 112.22431658 169.34805217 162.48054974]\n"
     ]
    }
   ],
   "source": [
    "N = 1000\n",
    "\n",
    "mean_height = 68\n",
    "std_height = 3\n",
    "\n",
    "w0 = -290\n",
    "w1 = 6.66\n",
    "std_weight = 10\n",
    "\n",
    "# Our Model:\n",
    "# mean_weight = w0 + (w1 * height)\n",
    "\n",
    "\n",
    "heights = np.array(\n",
    "    [np.random.normal(loc=mean_height, scale=std_height) for i in range(N)])\n",
    "\n",
    "weights = np.array(\n",
    "    [np.random.normal(loc=(w0+(w1*height)), scale=std_weight) for height in heights])\n",
    "\n",
    "# Compact approach to heights that is less general:\n",
    "# heights = np.random.normal(loc=mean_height, scale=std_height, size=N)\n",
    "\n",
    "# Functional approach to generating the weights:\n",
    "# def mean_weight(height):\n",
    "#     return w0 + (w1 * height)\n",
    "# def sample_weight(height):\n",
    "#     return np.random.normal(loc=mean_weight(height), scale=std_weight)\n",
    "# weights = np.array(\n",
    "#     [sample_weight(height) for height in heights])\n",
    "\n",
    "print(heights[:10])\n",
    "print(weights[:10])"
   ]
  },
  {
   "cell_type": "code",
   "execution_count": 3,
   "metadata": {},
   "outputs": [
    {
     "data": {
      "text/plain": [
       "<matplotlib.collections.PathCollection at 0x10f93b358>"
      ]
     },
     "execution_count": 3,
     "metadata": {},
     "output_type": "execute_result"
    }
   ],
   "source": [
    "from matplotlib import pyplot as plt\n",
    "\n",
    "plt.scatter(heights, weights)"
   ]
  },
  {
   "cell_type": "markdown",
   "metadata": {},
   "source": [
    "## Statistical Inference"
   ]
  },
  {
   "cell_type": "markdown",
   "metadata": {},
   "source": [
    "Because we randomly generated the data, we know the true values of the parameters of the model, namely:\n",
    "\n",
    "* $w_0 = -290$\n",
    "* $w_1 = 6.66$\n",
    "* std_weight $= 10$\n",
    "\n",
    "Now we are going to pretend that we do not know these values.  How would we figure them out, if someone handed us these heights and weights?  We will create a function to **score** candidate parameters.  It will be an error function, so **lower scores will be better**.  We will call it **$f$**.\n",
    "\n",
    "Below we choose some candidate parameters and demonstrate the predictions they would lead to.  When we create our scoring function, these candidates will hopefully have a worse score than the true parameters."
   ]
  },
  {
   "cell_type": "code",
   "execution_count": 4,
   "metadata": {},
   "outputs": [
    {
     "data": {
      "text/plain": [
       "array([207.64535762, 212.23247329, 182.8811866 , 188.20013565,\n",
       "       178.81131614, 161.04497528, 214.61073212, 171.22599766,\n",
       "       198.5444814 , 190.04102009])"
      ]
     },
     "execution_count": 4,
     "metadata": {},
     "output_type": "execute_result"
    }
   ],
   "source": [
    "# Given (w0, w1, sigma) ----> Score\n",
    "# Sum (Average) of squares of residuals r_i = (y_i - y_pred_i)\n",
    "\n",
    "# True Parameters:\n",
    "# w0 = -290\n",
    "# w1 = 6.66\n",
    "# std_weight = 10\n",
    "\n",
    "# Candidate Parameters\n",
    "b0 = -280\n",
    "b1 = 7\n",
    "std_y = 9\n",
    "\n",
    "x = heights\n",
    "y = weights\n",
    "\n",
    "y_pred = (b0 + b1*x)[:10]\n",
    "y_pred"
   ]
  },
  {
   "cell_type": "code",
   "execution_count": 5,
   "metadata": {},
   "outputs": [
    {
     "data": {
      "text/plain": [
       "array([161.61293936, 164.45058364, 142.57551185, 170.73956117,\n",
       "       155.89849402, 116.1245501 , 182.11647924, 112.22431658,\n",
       "       169.34805217, 162.48054974])"
      ]
     },
     "execution_count": 5,
     "metadata": {},
     "output_type": "execute_result"
    }
   ],
   "source": [
    "y[:10]"
   ]
  },
  {
   "cell_type": "code",
   "execution_count": 6,
   "metadata": {},
   "outputs": [],
   "source": [
    "def f(b0, b1):\n",
    "    y_pred = b0 + b1*x\n",
    "    r = y - y_pred\n",
    "    return np.mean(r ** 2)"
   ]
  },
  {
   "cell_type": "code",
   "execution_count": 7,
   "metadata": {},
   "outputs": [
    {
     "name": "stdout",
     "output_type": "stream",
     "text": [
      "Score (Error) of Candidate Parameters: 1228.286075457154\n",
      "Score (Error) of True Parameters: 101.80887678920448\n"
     ]
    }
   ],
   "source": [
    "print('Score (Error) of Candidate Parameters:', f(b0, b1))\n",
    "print('Score (Error) of True Parameters:', f(w0, w1))"
   ]
  },
  {
   "cell_type": "markdown",
   "metadata": {},
   "source": [
    "Wonderful!  Our true parameters beat out candidate parameters.  Can we see more generally that our true parameters score among the best of all choices?  For the sake of visualization let's hold one parameters still and vary the other.\n",
    "\n",
    "First we will hold $w_1$ fixed, and try many choices for $w_0$ computing our $f$ function to score them."
   ]
  },
  {
   "cell_type": "code",
   "execution_count": 8,
   "metadata": {},
   "outputs": [
    {
     "data": {
      "text/plain": [
       "[<matplotlib.lines.Line2D at 0x10fb3a780>]"
      ]
     },
     "execution_count": 8,
     "metadata": {},
     "output_type": "execute_result"
    },
    {
     "data": {
      "image/png": "[encoded data removed]",
      "text/plain": [
       "<matplotlib.figure.Figure at 0x10f910a90>"
      ]
     },
     "metadata": {},
     "output_type": "display_data"
    }
   ],
   "source": [
    "plot_x = np.arange(-350, -150, 10)\n",
    "plot_y = np.array(\n",
    "    [f(w0_trial, w1) for w0_trial in plot_x]\n",
    ")\n",
    "\n",
    "plt.plot(plot_x, plot_y)"
   ]
  },
  {
   "cell_type": "code",
   "execution_count": 9,
   "metadata": {},
   "outputs": [
    {
     "data": {
      "text/plain": [
       "-290"
      ]
     },
     "execution_count": 9,
     "metadata": {},
     "output_type": "execute_result"
    }
   ],
   "source": [
    "plot_x[np.argmin(plot_y)]"
   ]
  },
  {
   "cell_type": "markdown",
   "metadata": {},
   "source": [
    "Below we have essentially the same code, but written in a way that might be more friendly in R.  We use our function multi-variable function $f$ to create a single variable function $g$ (or $h$) and apply that function to `plot_x`."
   ]
  },
  {
   "cell_type": "code",
   "execution_count": 10,
   "metadata": {},
   "outputs": [
    {
     "data": {
      "text/plain": [
       "[<matplotlib.lines.Line2D at 0x10fbba4e0>]"
      ]
     },
     "execution_count": 10,
     "metadata": {},
     "output_type": "execute_result"
    },
    {
     "data": {
      "image/png": "[encoded data removed]",
      "text/plain": [
       "<matplotlib.figure.Figure at 0x10fb15898>"
      ]
     },
     "metadata": {},
     "output_type": "display_data"
    }
   ],
   "source": [
    "def g(b0):\n",
    "    return f(b0, w1)\n",
    "\n",
    "h = lambda b0: f(b0, w1)\n",
    "\n",
    "plot_x = np.arange(-350, -150, 10)\n",
    "plot_y = np.array(\n",
    "    [h(w0_trial) for w0_trial in plot_x]\n",
    ")\n",
    "\n",
    "plt.plot(plot_x, plot_y)"
   ]
  },
  {
   "cell_type": "markdown",
   "metadata": {},
   "source": [
    "Now we"
   ]
  },
  {
   "cell_type": "markdown",
   "metadata": {},
   "source": [
    "Now we will hold $w_1$ fixed, and try many choices for $w_0$ computing our $f$ function to score them."
   ]
  },
  {
   "cell_type": "code",
   "execution_count": 11,
   "metadata": {},
   "outputs": [
    {
     "data": {
      "text/plain": [
       "[<matplotlib.lines.Line2D at 0x10fc24630>]"
      ]
     },
     "execution_count": 11,
     "metadata": {},
     "output_type": "execute_result"
    },
    {
     "data": {
      "image/png": "[encoded data removed]",
      "text/plain": [
       "<matplotlib.figure.Figure at 0x10fbc3828>"
      ]
     },
     "metadata": {},
     "output_type": "display_data"
    }
   ],
   "source": [
    "plot_x = np.arange(15/3, 25/3, 1/30)\n",
    "plot_y = np.array(\n",
    "    [f(w0, w1_trial) for w1_trial in plot_x]\n",
    ")\n",
    "\n",
    "plt.plot(plot_x, plot_y)"
   ]
  },
  {
   "cell_type": "code",
   "execution_count": 12,
   "metadata": {},
   "outputs": [
    {
     "data": {
      "text/plain": [
       "6.666666666666661"
      ]
     },
     "execution_count": 12,
     "metadata": {},
     "output_type": "execute_result"
    }
   ],
   "source": [
    "plot_x[np.argmin(plot_y)]"
   ]
  },
  {
   "cell_type": "markdown",
   "metadata": {},
   "source": [
    "Lastly we will use optimization software in the `scipy` library to actually minimize out two-variable function, and see how close our \"optimal\" parameters (Maximum Likelihood Estimates) are to the true parameters we used to generate the data."
   ]
  },
  {
   "cell_type": "code",
   "execution_count": 13,
   "metadata": {},
   "outputs": [],
   "source": [
    "from scipy.optimize import minimize\n",
    "\n",
    "def f_array(arr):\n",
    "    b0, b1 = arr\n",
    "    y_pred = b0 + b1*x\n",
    "    r = y - y_pred\n",
    "    return np.mean(r ** 2)"
   ]
  },
  {
   "cell_type": "code",
   "execution_count": 14,
   "metadata": {},
   "outputs": [
    {
     "data": {
      "text/plain": [
       "      fun: 101.58245493740864\n",
       " hess_inv: array([[ 2.60268906e+02, -3.82142021e+00],\n",
       "       [-3.82142021e+00,  5.62163219e-02]])\n",
       "      jac: array([9.53674316e-07, 4.76837158e-06])\n",
       "  message: 'Optimization terminated successfully.'\n",
       "     nfev: 32\n",
       "      nit: 3\n",
       "     njev: 8\n",
       "   status: 0\n",
       "  success: True\n",
       "        x: array([-285.89844294,    6.59330338])"
      ]
     },
     "execution_count": 14,
     "metadata": {},
     "output_type": "execute_result"
    }
   ],
   "source": [
    "initial_guess = np.array([b0, b1])\n",
    "minimize(f_array, initial_guess)"
   ]
  },
  {
   "cell_type": "code",
   "execution_count": null,
   "metadata": {},
   "outputs": [],
   "source": []
  }
 ],
 "metadata": {
  "kernelspec": {
   "display_name": "TLGLM - Development",
   "language": "python",
   "name": "tlglm-dev"
  },
  "language_info": {
   "codemirror_mode": {
    "name": "ipython",
    "version": 3
   },
   "file_extension": ".py",
   "mimetype": "text/x-python",
   "name": "python",
   "nbconvert_exporter": "python",
   "pygments_lexer": "ipython3",
   "version": "3.6.4"
  }
 },
 "nbformat": 4,
 "nbformat_minor": 2
}
